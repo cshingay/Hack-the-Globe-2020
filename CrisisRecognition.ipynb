{
 "cells": [
  {
   "cell_type": "code",
   "execution_count": 25,
   "metadata": {},
   "outputs": [
    {
     "name": "stderr",
     "output_type": "stream",
     "text": [
      "[nltk_data] Downloading package wordnet to /Users/Home/nltk_data...\n",
      "[nltk_data]   Package wordnet is already up-to-date!\n",
      "[nltk_data] Downloading package stopwords to /Users/Home/nltk_data...\n",
      "[nltk_data]   Package stopwords is already up-to-date!\n",
      "[nltk_data] Downloading package averaged_perceptron_tagger to\n",
      "[nltk_data]     /Users/Home/nltk_data...\n",
      "[nltk_data]   Package averaged_perceptron_tagger is already up-to-\n",
      "[nltk_data]       date!\n",
      "[nltk_data] Downloading package punkt to /Users/Home/nltk_data...\n",
      "[nltk_data]   Package punkt is already up-to-date!\n"
     ]
    }
   ],
   "source": [
    "from requests import get\n",
    "import requests\n",
    "from requests.exceptions import RequestException\n",
    "from contextlib import closing\n",
    "from bs4 import BeautifulSoup as bs\n",
    "from itertools import groupby\n",
    "\n",
    "import datetime\n",
    "import re\n",
    "import urllib\n",
    "import sys\n",
    "import random\n",
    "import pandas as pd\n",
    "import sqlite3 as sql\n",
    "import numpy as np\n",
    "import nltk\n",
    "import pickle\n",
    "import gensim\n",
    "import seaborn as sns\n",
    "from functions.tokenize_and_lemmatize import *\n",
    "from functions.get_wordnet_pos import *\n",
    "from functions.add_ngrams import *\n",
    "from functions.create_dictionary_corpus import *\n",
    "from functions.compute_similarity import *\n",
    "\n",
    "nltk.download('wordnet')\n",
    "from nltk.stem import WordNetLemmatizer\n",
    "# Download stopwords from NLTK\n",
    "nltk.download('stopwords')\n",
    "en_stop_words = set(nltk.corpus.stopwords.words('english'))\n",
    "nltk.download('averaged_perceptron_tagger')\n",
    "nltk.download('punkt')\n",
    "wordnet_lemmatizer = WordNetLemmatizer()\n",
    "exclusion_list=[]\n",
    "inclusion_list=[]\n",
    "punctuations = \"?:!.,;()&|$*-/\\\"''``“”\"\n",
    "\n",
    "\n",
    "log_directory= './logs2/'\n",
    "token_dictionary_directory='./outputs2/'"
   ]
  },
  {
   "cell_type": "code",
   "execution_count": 12,
   "metadata": {},
   "outputs": [
    {
     "name": "stdout",
     "output_type": "stream",
     "text": [
      "Index(['id', 'title', 'date', 'content', 'year', 'month', 'publication'], dtype='object')\n"
     ]
    }
   ],
   "source": [
    "month = 9;\n",
    "year = 2017;\n",
    "day = 22;\n",
    "\n",
    "conn = sql.connect(\"all-the-news.db\");\n",
    "queryStr = \"SELECT * FROM longform WHERE year=\"+str(year)+\" AND month=\"+str(month)+\" limit 100\";\n",
    "df = pd.read_sql_query(queryStr, conn);\n",
    "\n",
    "#%%codecell\n",
    "dfBig = df.drop(['url', 'section', 'digital', 'category', 'author'], axis=1);\n",
    "dfBig = dfBig.sort_values(by=[\"date\"], ascending=1);\n",
    "print(dfBig.columns)"
   ]
  },
  {
   "cell_type": "code",
   "execution_count": 26,
   "metadata": {},
   "outputs": [],
   "source": [
    "text_lists = {}\n",
    "\n",
    "titleList = dfBig['title'].tolist();\n",
    "contentList = dfBig['title'].tolist();\n",
    "\n",
    "for i in range(0, len(titleList), 1):\n",
    "    title = titleList[i];\n",
    "    text_lists[title] = [];\n",
    "    output = contentList[i];\n",
    "    text_lists[title].append(output)"
   ]
  },
  {
   "cell_type": "code",
   "execution_count": 27,
   "metadata": {},
   "outputs": [],
   "source": [
    "file_text_dictionary_dir = ('./outputs2/','text_dictionary')\n",
    "with open((file_text_dictionary_dir[0]+file_text_dictionary_dir[1] +'.pickle'), 'wb') as handle:\n",
    "        pickle.dump(text_lists, handle, protocol = pickle.HIGHEST_PROTOCOL)"
   ]
  },
  {
   "cell_type": "code",
   "execution_count": 28,
   "metadata": {},
   "outputs": [],
   "source": [
    "params = {\n",
    "    'text_lists': text_lists\n",
    "    , 'lemmatizer': wordnet_lemmatizer\n",
    "    , 'stop_words': en_stop_words\n",
    "    , 'exclusion_list': exclusion_list\n",
    "    , 'inclusion_list': inclusion_list\n",
    "    , 'punctuations': punctuations\n",
    "    , 'output_dir': './logs2/'\n",
    "}\n",
    "\n",
    "token_list = tokenize_and_lemmatize(params)"
   ]
  },
  {
   "cell_type": "code",
   "execution_count": 29,
   "metadata": {},
   "outputs": [
    {
     "name": "stdout",
     "output_type": "stream",
     "text": [
      "done\n"
     ]
    }
   ],
   "source": [
    "params = {\n",
    "    'lemma_list':token_list['token_list']\n",
    "    , 'n':'trigrams'\n",
    "    , 'min_count': 4\n",
    "    , 'delimiter': b' '\n",
    "    , 'scoring': 'npmi'\n",
    "    , 'threshold': 0.8\n",
    "    , 'output_dir': './outputs2/'\n",
    "}\n",
    "\n",
    "ngrams_list = add_ngrams(params)\n",
    "print(\"done\");"
   ]
  },
  {
   "cell_type": "code",
   "execution_count": 30,
   "metadata": {},
   "outputs": [
    {
     "name": "stdout",
     "output_type": "stream",
     "text": [
      "Cars Suck Up Data About You. Where Does It All Go? - The New York Times\n",
      "\n",
      "SAMPLE TOKENIZED AND LEMMATIZED TOKENS:\n",
      "['car', 'suck', 'data', 'go', 'new', 'york', 'time']\n",
      "\n",
      "SAMPLE TOKENS WITH N-GRAMS:\n",
      "['car', 'suck', 'data', 'go', 'new york time']\n"
     ]
    }
   ],
   "source": [
    "print(text_lists[list(text_lists.keys())[0]][0])\n",
    "print('\\nSAMPLE TOKENIZED AND LEMMATIZED TOKENS:')\n",
    "print(token_list['token_list'][list(text_lists.keys())[0]][0][0:50])\n",
    "print('\\nSAMPLE TOKENS WITH N-GRAMS:')\n",
    "print (ngrams_list['ngrams_list'][list(text_lists.keys())[0]][0][0:50])"
   ]
  },
  {
   "cell_type": "code",
   "execution_count": 31,
   "metadata": {},
   "outputs": [],
   "source": [
    "compare_docs = {k: ngrams_list['ngrams_list'][k] for k in list(ngrams_list['ngrams_list'])[0:20]}\n",
    "query_doc = 10\n",
    "\n",
    "params = {\n",
    "    'document_dictionary':compare_docs\n",
    "    , 'query_doc':10\n",
    "    , 'output_dir':'./outputs2/'\n",
    "}\n",
    "\n",
    "create_dictionary_corpus = create_dictionary_corpus(params)"
   ]
  },
  {
   "cell_type": "code",
   "execution_count": 32,
   "metadata": {},
   "outputs": [],
   "source": [
    "with open(\"./outputs2/document_dictionary.pickle\", \"rb\") as input_file:\n",
    "    dictionary = pickle.load(input_file)\n",
    "\n",
    "with open(\"./outputs2/corpus.pickle\", \"rb\") as input_file:\n",
    "    corpus = pickle.load(input_file)\n",
    "\n",
    "params = {\n",
    "    'document_dictionary':dictionary\n",
    "    ,'corpus':corpus\n",
    "    , 'query_doc':10\n",
    "}\n",
    "\n",
    "compute_similarity = compute_similarity(params)"
   ]
  },
  {
   "cell_type": "code",
   "execution_count": 33,
   "metadata": {},
   "outputs": [
    {
     "name": "stdout",
     "output_type": "stream",
     "text": [
      "DICTIONARY OF ALL NGRAMS IN DOCUMENTS: \n",
      "{'car': 0, 'data': 1, 'go': 2, 'new york time': 3, 'suck': 4, 'read': 5, 'bank': 6, 'better': 7, 'explain': 8, 'fee': 9, 'nudge': 10, 'overdraft': 11, 'rule': 12, 'stung': 13, 'u': 14, 'complies': 15, 'contradict': 16, 'deal': 17, 'iran': 18, 'monitor': 19, 'nuclear': 20, 'say': 21, 'trump': 22, 'un': 23, 'bros': 24, 'david': 25, 'family': 26, 'history': 27, 'studio': 28, 'thomson': 29, 'warner': 30, 'alien': 31, 'dear': 32, 'marooned': 33, 'princess': 34, 'connecticut': 35, 'home': 36, 'new york': 37, 'sale': 38, 'away': 39, 'controversial': 40, 'past': 41, 'restoration': 42, 'wipe': 43, 'damage': 44, 'exceed': 45, 'governor': 46, 'katrina': 47, 'may': 48, 'property': 49, 'seek': 50, 'solace': 51, 'texas': 52, 'weary': 53, 'entrepreneur': 54, 'focus': 55, 'labor': 56, 'policy': 57, 'shift': 58, 'worker': 59, '1992': 60, 'like': 61, 'party': 62, 'daily': 63, 'digital': 64, 'face': 65, 'future': 66, 'news': 67, 'publisher': 68, 'renewal': 69, 'red': 70, 'sign': 71, 'sox': 72, 'steal': 73, 'step': 74, 'tech': 75, 'use': 76, 'yankees': 77, 'briefing': 78, 'caribbean': 79, 'evening': 80, 'florida': 81, 'patriot': 82, 'thursday': 83, 'american': 84, 'del': 85, 'disrupts': 86, 'federer': 87, 'key': 88, 'meeting': 89, 'nadal': 90, 'open': 91, 'pot': 92, 'ro': 93, 'round': 94, 'semifinal': 95, 'auction': 96, 'block': 97, 'celebrity': 98, 'pull': 99}\n",
      "\n",
      "CORPUS FOR QUERY DOCUMENT: \n",
      "[(60, 1), (61, 1), (62, 1)]\n"
     ]
    }
   ],
   "source": [
    "print('DICTIONARY OF ALL NGRAMS IN DOCUMENTS: ')\n",
    "print({k: create_dictionary_corpus['dictionary'].token2id[k] for k in list(create_dictionary_corpus['dictionary'].token2id)[0:100]})\n",
    "print('\\nCORPUS FOR QUERY DOCUMENT: ')\n",
    "print(create_dictionary_corpus['corpus'][query_doc])"
   ]
  },
  {
   "cell_type": "code",
   "execution_count": 34,
   "metadata": {},
   "outputs": [
    {
     "name": "stdout",
     "output_type": "stream",
     "text": [
      "\n",
      "RELEVANT NGRAMS IN QUERY DOCUMENT BASED ON TF-IDF: \n",
      "[['1992', 0.58], ['like', 0.58], ['party', 0.58]]\n"
     ]
    }
   ],
   "source": [
    "print('\\nRELEVANT NGRAMS IN QUERY DOCUMENT BASED ON TF-IDF: ')\n",
    "for doc in compute_similarity['tf_idf'][corpus][query_doc:query_doc+1]:\n",
    "    print([[dictionary[id], np.around(freq, decimals=2)] for id, freq in doc])"
   ]
  },
  {
   "cell_type": "code",
   "execution_count": 36,
   "metadata": {},
   "outputs": [
    {
     "name": "stdout",
     "output_type": "stream",
     "text": [
      "\n",
      "SIMILARITY OF QUERY DOCUMENT COMPARED TO OTHER DOCUMENTS: \n",
      "[0.         0.         0.         0.         0.         0.\n",
      " 0.         0.         0.         0.         0.99999994 0.\n",
      " 0.         0.         0.         0.         0.         0.\n",
      " 0.         0.        ]\n",
      "AxesSubplot(0.125,0.125;0.62x0.755)\n"
     ]
    },
    {
     "data": {
      "image/png": "[encoded data removed]",
      "text/plain": [
       "<Figure size 432x288 with 2 Axes>"
      ]
     },
     "metadata": {
      "needs_background": "light"
     },
     "output_type": "display_data"
    }
   ],
   "source": [
    "print('\\nSIMILARITY OF QUERY DOCUMENT COMPARED TO OTHER DOCUMENTS: ')\n",
    "print(compute_similarity['similarity_index'][compute_similarity['tf_idf'][corpus[query_doc]]])\n",
    "\n",
    "print(sns.heatmap(compute_similarity['query_similarity'], cmap = 'Blues', vmin = 0, vmax = 0.4))"
   ]
  },
  {
   "cell_type": "code",
   "execution_count": 37,
   "metadata": {},
   "outputs": [
    {
     "name": "stdout",
     "output_type": "stream",
     "text": [
      "\n",
      "SIMILARITY OF QUERY DOCUMENT TO DOCUMENT (10, 0.99999994)\n",
      "['car', 'suck', 'data', 'go', 'new york time']\n",
      "\n",
      "SIMILARITY OF QUERY DOCUMENT TO DOCUMENT (0, 0.0)\n",
      "['read', 'new york time']\n",
      "\n",
      "SIMILARITY OF QUERY DOCUMENT TO DOCUMENT (1, 0.0)\n",
      "['stung', 'overdraft', 'fee', 'u', 'nudge', 'bank', 'explain', 'rule', 'better', 'new york time']\n",
      "\n",
      "SIMILARITY OF QUERY DOCUMENT TO DOCUMENT (2, 0.0)\n",
      "['contradict', 'trump', 'un', 'monitor', 'say', 'iran', 'complies', 'nuclear', 'deal', 'new york time']\n",
      "\n",
      "SIMILARITY OF QUERY DOCUMENT TO DOCUMENT (3, 0.0)\n",
      "['david', 'thomson', 'warner', 'bros', 'history', 'studio', 'family', 'new york time']\n",
      "\n",
      "SIMILARITY OF QUERY DOCUMENT TO DOCUMENT (4, 0.0)\n",
      "['dear', 'marooned', 'alien', 'princess']\n",
      "\n",
      "SIMILARITY OF QUERY DOCUMENT TO DOCUMENT (5, 0.0)\n",
      "['home', 'sale', 'new york', 'connecticut', 'new york time']\n",
      "\n",
      "SIMILARITY OF QUERY DOCUMENT TO DOCUMENT (6, 0.0)\n",
      "['controversial', 'restoration', 'wipe', 'away', 'past', 'new york time']\n",
      "\n",
      "SIMILARITY OF QUERY DOCUMENT TO DOCUMENT (7, 0.0)\n",
      "['weary', 'texas', 'seek', 'solace', 'governor', 'say', 'property', 'damage', 'may', 'exceed', 'katrina', 'new york time']\n",
      "\n",
      "SIMILARITY OF QUERY DOCUMENT TO DOCUMENT (8, 0.0)\n",
      "['trump', 'shift', 'labor', 'policy', 'focus', 'worker', 'entrepreneur', 'new york time']\n",
      "\n",
      "SIMILARITY OF QUERY DOCUMENT TO DOCUMENT (9, 0.0)\n",
      "['party', 'like', '1992']\n",
      "\n",
      "SIMILARITY OF QUERY DOCUMENT TO DOCUMENT (11, 0.0)\n",
      "['daily', 'news', 'publisher', 'past', 'face', 'digital', 'future', 'new york time']\n",
      "\n",
      "SIMILARITY OF QUERY DOCUMENT TO DOCUMENT (12, 0.0)\n",
      "['nuclear', 'renewal']\n",
      "\n",
      "SIMILARITY OF QUERY DOCUMENT TO DOCUMENT (13, 0.0)\n",
      "['red', 'sox', 'use', 'tech', 'step', 'step', 'steal', 'sign', 'yankees', 'new york time']\n",
      "\n",
      "SIMILARITY OF QUERY DOCUMENT TO DOCUMENT (14, 0.0)\n",
      "['caribbean', 'florida', 'patriot', 'thursday', 'evening', 'briefing', 'new york time']\n",
      "\n",
      "SIMILARITY OF QUERY DOCUMENT TO DOCUMENT (15, 0.0)\n",
      "['u', 'open', 'del', 'pot', 'ro', 'disrupts', 'federer', 'nadal', 'meeting', 'key', 'round', 'american', 'semifinal', 'new york time']\n",
      "\n",
      "SIMILARITY OF QUERY DOCUMENT TO DOCUMENT (16, 0.0)\n",
      "['auction', 'block', 'pull', 'celebrity', 'new york time']\n",
      "\n",
      "SIMILARITY OF QUERY DOCUMENT TO DOCUMENT (17, 0.0)\n",
      "['north', 'dakota', 'trump', 'repeat', 'call', 'rewrite', 'tax', 'code', 'new york time']\n",
      "\n",
      "SIMILARITY OF QUERY DOCUMENT TO DOCUMENT (18, 0.0)\n",
      "['trump', 'choice', 'top', 'civil', 'right', 'job', 'defends', 'private', 'sector', 'work', 'new york time']\n",
      "\n",
      "SIMILARITY OF QUERY DOCUMENT TO DOCUMENT (19, 0.0)\n",
      "['review', 'hollywood', 'ending', 'bo', 'jack', 'horseman', 'new york time']\n"
     ]
    }
   ],
   "source": [
    "text_list = [items for document in compare_docs.values() for items in document]\n",
    "            \n",
    "sims_doc_tokens = sorted(enumerate(compute_similarity['similarity_index'][compute_similarity['tf_idf'][corpus[query_doc]]]), key=lambda item: -item[1])\n",
    "for i, s in enumerate(sims_doc_tokens):\n",
    "    print('\\nSIMILARITY OF QUERY DOCUMENT TO DOCUMENT ' + str(s)) \n",
    "    print(text_list[i])"
   ]
  },
  {
   "cell_type": "code",
   "execution_count": null,
   "metadata": {},
   "outputs": [],
   "source": []
  }
 ],
 "metadata": {
  "kernelspec": {
   "display_name": "Python 3",
   "language": "python",
   "name": "python3"
  },
  "language_info": {
   "codemirror_mode": {
    "name": "ipython",
    "version": 3
   },
   "file_extension": ".py",
   "mimetype": "text/x-python",
   "name": "python",
   "nbconvert_exporter": "python",
   "pygments_lexer": "ipython3",
   "version": "3.7.6"
  }
 },
 "nbformat": 4,
 "nbformat_minor": 4
}
