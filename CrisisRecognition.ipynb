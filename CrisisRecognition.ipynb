{
 "cells": [
  {
   "cell_type": "code",
   "execution_count": 27,
   "metadata": {},
   "outputs": [
    {
     "name": "stderr",
     "output_type": "stream",
     "text": [
      "[nltk_data] Downloading package wordnet to /Users/Home/nltk_data...\n",
      "[nltk_data]   Package wordnet is already up-to-date!\n",
      "[nltk_data] Downloading package stopwords to /Users/Home/nltk_data...\n",
      "[nltk_data]   Package stopwords is already up-to-date!\n",
      "[nltk_data] Downloading package averaged_perceptron_tagger to\n",
      "[nltk_data]     /Users/Home/nltk_data...\n",
      "[nltk_data]   Package averaged_perceptron_tagger is already up-to-\n",
      "[nltk_data]       date!\n",
      "[nltk_data] Downloading package punkt to /Users/Home/nltk_data...\n",
      "[nltk_data]   Package punkt is already up-to-date!\n"
     ]
    }
   ],
   "source": [
    "'''\n",
    "Analyses similarities between different news headlines around the same timeline\n",
    "Used to determine if ongoing crisis is occuring, and funds need to be reallocated\n",
    "'''\n",
    "\n",
    "from requests import get\n",
    "import requests\n",
    "from requests.exceptions import RequestException\n",
    "from contextlib import closing\n",
    "from bs4 import BeautifulSoup as bs\n",
    "from itertools import groupby\n",
    "\n",
    "import datetime\n",
    "import re\n",
    "import urllib\n",
    "import sys\n",
    "import random\n",
    "import pandas as pd\n",
    "import sqlite3 as sql\n",
    "import numpy as np\n",
    "import nltk\n",
    "import pickle\n",
    "import gensim\n",
    "import seaborn as sns\n",
    "from functions.tokenize_and_lemmatize import *\n",
    "from functions.get_wordnet_pos import *\n",
    "from functions.add_ngrams import *\n",
    "from functions.create_dictionary_corpus import *\n",
    "from functions.compute_similarity import *\n",
    "\n",
    "nltk.download('wordnet')\n",
    "from nltk.stem import WordNetLemmatizer\n",
    "# Download stopwords from NLTK\n",
    "nltk.download('stopwords')\n",
    "en_stop_words = set(nltk.corpus.stopwords.words('english'))\n",
    "nltk.download('averaged_perceptron_tagger')\n",
    "nltk.download('punkt')\n",
    "wordnet_lemmatizer = WordNetLemmatizer()\n",
    "exclusion_list=[]\n",
    "inclusion_list=[]\n",
    "punctuations = \"?:!.,;()&|$*-/\\\"''``“”\"\n",
    "\n",
    "log_directory= './logs2/'\n",
    "token_dictionary_directory='./outputs2/'"
   ]
  },
  {
   "cell_type": "code",
   "execution_count": 28,
   "metadata": {},
   "outputs": [],
   "source": [
    "month = 9;\n",
    "year = 2017;\n",
    "day = 22;\n",
    "\n",
    "conn = sql.connect(\"all-the-news.db\");\n",
    "queryStr = \"SELECT * FROM longform WHERE year=\"+str(year)+\" AND month=\"+str(month);\n",
    "df = pd.read_sql_query(queryStr, conn);"
   ]
  },
  {
   "cell_type": "code",
   "execution_count": 29,
   "metadata": {},
   "outputs": [
    {
     "name": "stdout",
     "output_type": "stream",
     "text": [
      "Index(['id', 'title', 'date', 'content', 'year', 'month', 'publication'], dtype='object')\n"
     ]
    }
   ],
   "source": [
    "dfBig = df.drop(['url', 'section', 'digital', 'category', 'author'], axis=1);\n",
    "dfBig = dfBig.sort_values(by=[\"date\"], ascending=1);\n",
    "print(dfBig.columns)"
   ]
  },
  {
   "cell_type": "code",
   "execution_count": 30,
   "metadata": {},
   "outputs": [],
   "source": [
    "text_lists = {}\n",
    "\n",
    "titleList = dfBig['title'].tolist();\n",
    "contentList = dfBig['title'].tolist();\n",
    "\n",
    "for i in range(0, len(titleList), 1):\n",
    "    title = titleList[i];\n",
    "    text_lists[title] = [];\n",
    "    output = contentList[i];\n",
    "    text_lists[title].append(output)"
   ]
  },
  {
   "cell_type": "code",
   "execution_count": 31,
   "metadata": {},
   "outputs": [],
   "source": [
    "file_text_dictionary_dir = ('./outputs2/','text_dictionary')\n",
    "with open((file_text_dictionary_dir[0]+file_text_dictionary_dir[1] +'.pickle'), 'wb') as handle:\n",
    "        pickle.dump(text_lists, handle, protocol = pickle.HIGHEST_PROTOCOL)"
   ]
  },
  {
   "cell_type": "code",
   "execution_count": 32,
   "metadata": {},
   "outputs": [],
   "source": [
    "params = {\n",
    "    'text_lists': text_lists\n",
    "    , 'lemmatizer': wordnet_lemmatizer\n",
    "    , 'stop_words': en_stop_words\n",
    "    , 'exclusion_list': exclusion_list\n",
    "    , 'inclusion_list': inclusion_list\n",
    "    , 'punctuations': punctuations\n",
    "    , 'output_dir': './logs2/'\n",
    "}\n",
    "\n",
    "token_list = tokenize_and_lemmatize(params)"
   ]
  },
  {
   "cell_type": "code",
   "execution_count": 33,
   "metadata": {},
   "outputs": [
    {
     "name": "stdout",
     "output_type": "stream",
     "text": [
      "done\n"
     ]
    }
   ],
   "source": [
    "params = {\n",
    "    'lemma_list':token_list['token_list']\n",
    "    , 'n':'trigrams'\n",
    "    , 'min_count': 4\n",
    "    , 'delimiter': b' '\n",
    "    , 'scoring': 'npmi'\n",
    "    , 'threshold': 0.8\n",
    "    , 'output_dir': './outputs2/'\n",
    "}\n",
    "\n",
    "ngrams_list = add_ngrams(params)\n",
    "print(\"done\");"
   ]
  },
  {
   "cell_type": "code",
   "execution_count": 34,
   "metadata": {},
   "outputs": [
    {
     "name": "stdout",
     "output_type": "stream",
     "text": [
      "With Primary Days Away, de Blasio Rolls Out First TV Ad - The New York Times\n",
      "\n",
      "SAMPLE TOKENIZED AND LEMMATIZED TOKENS:\n",
      "['primary', 'day', 'away', 'de', 'blas', 'io', 'roll', 'first', 'tv', 'ad', 'new', 'york', 'time']\n",
      "\n",
      "SAMPLE TOKENS WITH N-GRAMS:\n",
      "['primary', 'day', 'away', 'de blas io', 'roll', 'first', 'tv', 'ad', 'new york time']\n"
     ]
    }
   ],
   "source": [
    "print(text_lists[list(text_lists.keys())[0]][0])\n",
    "print('\\nSAMPLE TOKENIZED AND LEMMATIZED TOKENS:')\n",
    "print(token_list['token_list'][list(text_lists.keys())[0]][0][0:50])\n",
    "print('\\nSAMPLE TOKENS WITH N-GRAMS:')\n",
    "print (ngrams_list['ngrams_list'][list(text_lists.keys())[0]][0][0:50])"
   ]
  },
  {
   "cell_type": "code",
   "execution_count": 35,
   "metadata": {},
   "outputs": [],
   "source": [
    "compare_docs = {k: ngrams_list['ngrams_list'][k] for k in list(ngrams_list['ngrams_list'])[0:20]}\n",
    "query_doc = 10\n",
    "\n",
    "params = {\n",
    "    'document_dictionary':compare_docs\n",
    "    , 'query_doc':10\n",
    "    , 'output_dir':'./outputs2/'\n",
    "}\n",
    "\n",
    "create_dictionary_corpus = create_dictionary_corpus(params)"
   ]
  },
  {
   "cell_type": "code",
   "execution_count": 36,
   "metadata": {},
   "outputs": [],
   "source": [
    "with open(\"./outputs2/document_dictionary.pickle\", \"rb\") as input_file:\n",
    "    dictionary = pickle.load(input_file)\n",
    "\n",
    "with open(\"./outputs2/corpus.pickle\", \"rb\") as input_file:\n",
    "    corpus = pickle.load(input_file)\n",
    "\n",
    "params = {\n",
    "    'document_dictionary':dictionary\n",
    "    ,'corpus':corpus\n",
    "    , 'query_doc':10\n",
    "}\n",
    "\n",
    "compute_similarity = compute_similarity(params)"
   ]
  },
  {
   "cell_type": "code",
   "execution_count": 37,
   "metadata": {},
   "outputs": [
    {
     "name": "stdout",
     "output_type": "stream",
     "text": [
      "DICTIONARY OF ALL NGRAMS IN DOCUMENTS: \n",
      "{'ad': 0, 'away': 1, 'day': 2, 'de blas io': 3, 'first': 4, 'new york time': 5, 'primary': 6, 'roll': 7, 'tv': 8, '2': 9, 'air': 10, 'missile': 11, 'north korea': 12, 'power': 13, 'show': 14, 'test': 15, 'u': 16, 'broadway': 17, 'ca': 18, 'fixture': 19, 'flea': 20, 'new': 21, 'open': 22, 'theater': 23, 'tribe': 24, 'abortion': 25, 'block': 26, 'restriction': 27, 'temporarily': 28, 'texas': 29, 'bank': 30, 'better': 31, 'explain': 32, 'fee': 33, 'nudge': 34, 'overdraft': 35, 'rule': 36, 'stung': 37, 'age': 38, 'close': 39, 'encounter': 40, 'got': 41, 'movie': 42, 'religion': 43, 'advance': 44, 'court': 45, 'one': 46, 'queen': 47, 'rev': 48, 'take': 49, 'two': 50, 'zve': 51, 'actually': 52, 'could': 53, 'kitchen': 54, 'stage': 55, 'courtroom': 56, 'dying': 57, 'hour': 58, 'penn': 59, 'play': 60, 'state': 61, 'student': 62, 'video': 63, 'afghanistan': 64, 'group': 65, 'mattis': 66, 'order': 67, 'reinforcement': 68, 'business': 69, 'car': 70, 'dealer': 71, 'storm': 72, 'swift': 73, 'korean': 74, 'like': 75, 'look': 76, 'reporter': 77, 'south': 78, 'evening briefing': 79, 'friday': 80, 'hur': 81, 'kenyatta': 82, 'russia': 83, '5': 84, 'new york': 85, 'see': 86, 'september': 87, 'angeles': 88, 'brazil': 89, 'los': 90, 'touch': 91, 'weekend': 92, 'read': 93, 'bros': 94, 'david': 95, 'family': 96, 'history': 97, 'studio': 98, 'thomson': 99}\n",
      "\n",
      "CORPUS FOR QUERY DOCUMENT: \n",
      "[(5, 1), (22, 1), (69, 1), (70, 1), (71, 1), (72, 1), (73, 1)]\n"
     ]
    }
   ],
   "source": [
    "print('DICTIONARY OF ALL NGRAMS IN DOCUMENTS: ')\n",
    "print({k: create_dictionary_corpus['dictionary'].token2id[k] for k in list(create_dictionary_corpus['dictionary'].token2id)[0:100]})\n",
    "print('\\nCORPUS FOR QUERY DOCUMENT: ')\n",
    "print(create_dictionary_corpus['corpus'][query_doc])"
   ]
  },
  {
   "cell_type": "code",
   "execution_count": 38,
   "metadata": {},
   "outputs": [
    {
     "name": "stdout",
     "output_type": "stream",
     "text": [
      "\n",
      "RELEVANT NGRAMS IN QUERY DOCUMENT BASED ON TF-IDF: \n",
      "[['open', 0.34], ['business', 0.44], ['car', 0.44], ['dealer', 0.44], ['storm', 0.34], ['swift', 0.44]]\n"
     ]
    }
   ],
   "source": [
    "print('\\nRELEVANT NGRAMS IN QUERY DOCUMENT BASED ON TF-IDF: ')\n",
    "for doc in compute_similarity['tf_idf'][corpus][query_doc:query_doc+1]:\n",
    "    print([[dictionary[id], np.around(freq, decimals=2)] for id, freq in doc])"
   ]
  },
  {
   "cell_type": "code",
   "execution_count": 39,
   "metadata": {
    "scrolled": true
   },
   "outputs": [
    {
     "name": "stdout",
     "output_type": "stream",
     "text": [
      "\n",
      "SIMILARITY OF QUERY DOCUMENT COMPARED TO OTHER DOCUMENTS: \n",
      "[0.         0.         0.09684692 0.         0.         0.\n",
      " 0.         0.         0.         0.         1.         0.\n",
      " 0.         0.         0.         0.         0.         0.12691882\n",
      " 0.         0.        ]\n",
      "AxesSubplot(0.125,0.125;0.62x0.755)\n"
     ]
    },
    {
     "data": {
      "image/png": "[encoded data removed]",
      "text/plain": [
       "<Figure size 432x288 with 2 Axes>"
      ]
     },
     "metadata": {
      "needs_background": "light"
     },
     "output_type": "display_data"
    }
   ],
   "source": [
    "print('\\nSIMILARITY OF QUERY DOCUMENT COMPARED TO OTHER DOCUMENTS: ')\n",
    "print(compute_similarity['similarity_index'][compute_similarity['tf_idf'][corpus[query_doc]]])\n",
    "\n",
    "print(sns.heatmap(compute_similarity['query_similarity'], cmap = 'Blues', vmin = 0, vmax = 0.4))"
   ]
  },
  {
   "cell_type": "code",
   "execution_count": 40,
   "metadata": {},
   "outputs": [
    {
     "name": "stdout",
     "output_type": "stream",
     "text": [
      "\n",
      "SIMILARITY OF QUERY DOCUMENT TO DOCUMENT (10, 1.0)\n",
      "['primary', 'day', 'away', 'de blas io', 'roll', 'first', 'tv', 'ad', 'new york time']\n",
      "\n",
      "SIMILARITY OF QUERY DOCUMENT TO DOCUMENT (17, 0.12691882)\n",
      "['2', 'day', 'north korea', 'missile', 'test', 'show', 'u', 'air', 'power', 'new york time']\n",
      "\n",
      "SIMILARITY OF QUERY DOCUMENT TO DOCUMENT (2, 0.096846916)\n",
      "['flea', 'broadway', 'fixture', 'open', 'new', 'theater', 'tribe', 'ca', 'new york time']\n",
      "\n",
      "SIMILARITY OF QUERY DOCUMENT TO DOCUMENT (0, 0.0)\n",
      "['texas', 'abortion', 'restriction', 'temporarily', 'block', 'new york time']\n",
      "\n",
      "SIMILARITY OF QUERY DOCUMENT TO DOCUMENT (1, 0.0)\n",
      "['stung', 'overdraft', 'fee', 'u', 'nudge', 'bank', 'explain', 'rule', 'better', 'new york time']\n",
      "\n",
      "SIMILARITY OF QUERY DOCUMENT TO DOCUMENT (3, 0.0)\n",
      "['close', 'encounter', 'movie', 'got', 'new', 'age', 'religion', 'new york time']\n",
      "\n",
      "SIMILARITY OF QUERY DOCUMENT TO DOCUMENT (4, 0.0)\n",
      "['two', 'zve', 'rev', 'take', 'court', 'queen', 'one', 'advance', 'new york time']\n",
      "\n",
      "SIMILARITY OF QUERY DOCUMENT TO DOCUMENT (5, 0.0)\n",
      "['kitchen', 'stage', 'could', 'actually', 'kitchen', 'new york time']\n",
      "\n",
      "SIMILARITY OF QUERY DOCUMENT TO DOCUMENT (6, 0.0)\n",
      "['penn', 'state', 'student', 'dying', 'hour', 'play', 'courtroom', 'video', 'new york time']\n",
      "\n",
      "SIMILARITY OF QUERY DOCUMENT TO DOCUMENT (7, 0.0)\n",
      "['mattis', 'order', 'first', 'group', 'reinforcement', 'afghanistan', 'new york time']\n",
      "\n",
      "SIMILARITY OF QUERY DOCUMENT TO DOCUMENT (8, 0.0)\n",
      "['storm', 'car', 'dealer', 'swift', 'business', 'open', 'new york time']\n",
      "\n",
      "SIMILARITY OF QUERY DOCUMENT TO DOCUMENT (9, 0.0)\n",
      "['north korea', 'missile', 'test', 'look', 'like', 'south', 'korean', 'reporter', 'new york time']\n",
      "\n",
      "SIMILARITY OF QUERY DOCUMENT TO DOCUMENT (11, 0.0)\n",
      "['texas', 'russia', 'u', 'hur', 'u', 'kenyatta', 'friday', 'evening briefing', 'new york time']\n",
      "\n",
      "SIMILARITY OF QUERY DOCUMENT TO DOCUMENT (12, 0.0)\n",
      "['5', 'show', 'see', 'new york', 'september', 'new york time']\n",
      "\n",
      "SIMILARITY OF QUERY DOCUMENT TO DOCUMENT (13, 0.0)\n",
      "['weekend', 'los', 'angeles', 'touch', 'brazil', 'new york time']\n",
      "\n",
      "SIMILARITY OF QUERY DOCUMENT TO DOCUMENT (14, 0.0)\n",
      "['read', 'new york time']\n",
      "\n",
      "SIMILARITY OF QUERY DOCUMENT TO DOCUMENT (15, 0.0)\n",
      "['david', 'thomson', 'warner', 'bros', 'history', 'studio', 'family', 'new york time']\n",
      "\n",
      "SIMILARITY OF QUERY DOCUMENT TO DOCUMENT (16, 0.0)\n",
      "['affect', 'storm', 'would', 'like', 'hear', 'new york time']\n",
      "\n",
      "SIMILARITY OF QUERY DOCUMENT TO DOCUMENT (18, 0.0)\n",
      "['apps', 'provide', 'peace', 'mind', 'teenager', 'behind', 'wheel', 'new york time']\n",
      "\n",
      "SIMILARITY OF QUERY DOCUMENT TO DOCUMENT (19, 0.0)\n",
      "['britain', 'theresa', 'may', 'make', 'news', 'say', 'quit', 'new york time']\n"
     ]
    }
   ],
   "source": [
    "text_list = [items for document in compare_docs.values() for items in document]\n",
    "            \n",
    "sims_doc_tokens = sorted(enumerate(compute_similarity['similarity_index'][compute_similarity['tf_idf'][corpus[query_doc]]]), key=lambda item: -item[1])\n",
    "for i, s in enumerate(sims_doc_tokens):\n",
    "    print('\\nSIMILARITY OF QUERY DOCUMENT TO DOCUMENT ' + str(s)) \n",
    "    print(text_list[i])"
   ]
  },
  {
   "cell_type": "code",
   "execution_count": null,
   "metadata": {},
   "outputs": [],
   "source": []
  }
 ],
 "metadata": {
  "kernelspec": {
   "display_name": "Python 3",
   "language": "python",
   "name": "python3"
  },
  "language_info": {
   "codemirror_mode": {
    "name": "ipython",
    "version": 3
   },
   "file_extension": ".py",
   "mimetype": "text/x-python",
   "name": "python",
   "nbconvert_exporter": "python",
   "pygments_lexer": "ipython3",
   "version": "3.7.6"
  }
 },
 "nbformat": 4,
 "nbformat_minor": 4
}
